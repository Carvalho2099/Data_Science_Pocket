{
 "cells": [
  {
   "cell_type": "markdown",
   "id": "bd7c1abc",
   "metadata": {},
   "source": [
    "# Detectando faces em imagens com Python e Opencv"
   ]
  },
  {
   "cell_type": "code",
   "execution_count": 3,
   "id": "dc4f9370",
   "metadata": {},
   "outputs": [],
   "source": [
    "import cv2\n",
    "import numpy as np"
   ]
  },
  {
   "cell_type": "code",
   "execution_count": 5,
   "id": "4f38c503",
   "metadata": {},
   "outputs": [],
   "source": [
    "# ler a imagem\n",
    "imagemPath = 'imagemFace.jpg'\n",
    "image = cv2.imread(imagemPath)"
   ]
  },
  {
   "cell_type": "code",
   "execution_count": 7,
   "id": "79616e2e",
   "metadata": {},
   "outputs": [
    {
     "name": "stdout",
     "output_type": "stream",
     "text": [
      "Found 1 faces\n"
     ]
    }
   ],
   "source": [
    "cascadePatch = 'haarcascade_frontalface_default.xml'\n",
    "\n",
    "# utilizando o classificador provido pelo opencv\n",
    "faceCascade = cv2.CascadeClassifier(cv2.data.haarcascades + 'haarcascade_frontalface_default.xml')\n",
    "\n",
    "# a detecção de cade é feita em imagem na escala de cinza\n",
    "# convertando a imagem original\n",
    "gray = cv2.cvtColor(image, cv2.COLOR_BGR2GRAY)\n",
    "\n",
    "# Utilizando o método detectMultiscale\n",
    "faces = faceCascade.detectMultiScale(\n",
    "    gray,\n",
    "    minSize=(30,30),\n",
    "    flags = cv2.CASCADE_SCALE_IMAGE\n",
    ")\n",
    "\n",
    "# imprimindo quantas faces foram encontradas\n",
    "print(f'Found {len(faces)} faces')"
   ]
  },
  {
   "cell_type": "code",
   "execution_count": 13,
   "id": "9d3b1886",
   "metadata": {},
   "outputs": [],
   "source": [
    "# (0,255,0) é a cor do retangulo (verde)\n",
    "# 2 é a espessura da linha\n",
    "# w é a largura do quadrado da face\n",
    "# h é a altura\n",
    "# x é o ponto inicial no eixo horizontal\n",
    "# y é o ponto inicial no eixo vertical\n",
    "for (x, y, w, h) in faces:\n",
    "   cv2.rectangle(image, (x, y), (x+w, y+h), (0, 255, 0), 2)\n",
    "   cv2.imshow('face detected',image)\n",
    "   cv2.waitKey(0)"
   ]
  },
  {
   "cell_type": "code",
   "execution_count": null,
   "id": "c727a61c",
   "metadata": {},
   "outputs": [],
   "source": []
  }
 ],
 "metadata": {
  "kernelspec": {
   "display_name": "Python 3 (ipykernel)",
   "language": "python",
   "name": "python3"
  },
  "language_info": {
   "codemirror_mode": {
    "name": "ipython",
    "version": 3
   },
   "file_extension": ".py",
   "mimetype": "text/x-python",
   "name": "python",
   "nbconvert_exporter": "python",
   "pygments_lexer": "ipython3",
   "version": "3.9.7"
  }
 },
 "nbformat": 4,
 "nbformat_minor": 5
}
